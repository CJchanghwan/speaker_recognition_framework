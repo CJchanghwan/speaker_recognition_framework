{
 "cells": [
  {
   "cell_type": "markdown",
   "id": "5f80d242",
   "metadata": {},
   "source": [
    "# extract speaker embedding"
   ]
  },
  {
   "cell_type": "code",
   "execution_count": 1,
   "id": "a8d1d97c",
   "metadata": {},
   "outputs": [
    {
     "data": {
      "text/plain": [
       "<All keys matched successfully>"
      ]
     },
     "execution_count": 1,
     "metadata": {},
     "output_type": "execute_result"
    }
   ],
   "source": [
    "import model\n",
    "import torch\n",
    "import torch, sys, os, tqdm, numpy, soundfile, time, pickle\n",
    "import torchaudio.transforms as T\n",
    "import torch.nn.functional as F\n",
    "\n",
    "use_cuda = torch.cuda.is_available() and True\n",
    "device = torch.device(\"cuda\" if use_cuda else \"cpu\")\n",
    "\n",
    "speaker_encoder = model.ECAPA_TDNN(1024, 16000).to(device)\n",
    "\n",
    "loaded_state = torch.load('./your_model.model')\n",
    "self_state = speaker_encoder.state_dict()\n",
    "new_state_dict = {name.replace(\"speaker_encoder.\", \"\"): param for name, param in loaded_state.items()}\n",
    "new_state_dict.pop('speaker_loss.weight')\n",
    "speaker_encoder.load_state_dict(new_state_dict)"
   ]
  },
  {
   "cell_type": "code",
   "execution_count": 3,
   "id": "291184a9",
   "metadata": {},
   "outputs": [
    {
     "name": "stdout",
     "output_type": "stream",
     "text": [
      "torch.Size([1, 192])\n"
     ]
    }
   ],
   "source": [
    "sampling_rate = 16000\n",
    "audio_path = './your_audio_file'\n",
    "audio, sr  = soundfile.read(os.path.join(audio_path))\n",
    "\n",
    "audio = torch.FloatTensor(audio)\n",
    "resampler = T.Resample(sr, sampling_rate, dtype=audio.dtype)\n",
    "audio = resampler(audio)\n",
    "with torch.no_grad():\n",
    "    speaker_encoder.eval()\n",
    "    embedding = speaker_encoder(audio.unsqueeze(0).to(device), False)\n",
    "    embedding = F.normalize(embedding, p=2, dim=1)\n",
    "print(embedding.shape)"
   ]
  },
  {
   "cell_type": "markdown",
   "id": "aa125313",
   "metadata": {},
   "source": [
    "# cosine similarity between positive speakers"
   ]
  },
  {
   "cell_type": "code",
   "execution_count": 4,
   "id": "36a92dc9",
   "metadata": {},
   "outputs": [
    {
     "name": "stdout",
     "output_type": "stream",
     "text": [
      "tensor([0.7683], device='cuda:0')\n"
     ]
    }
   ],
   "source": [
    "sampling_rate = 16000\n",
    "audio_path1 = './your_audio_file1'\n",
    "audio_path2 = './your_audio_file2'\n",
    "\n",
    "audio1, sr  = soundfile.read(os.path.join(audio_path1))\n",
    "audio2, sr  = soundfile.read(os.path.join(audio_path2))\n",
    "\n",
    "audio1 = torch.FloatTensor(audio1)\n",
    "resampler = T.Resample(sr, sampling_rate, dtype=audio.dtype)\n",
    "audio1 = resampler(audio1)\n",
    "\n",
    "audio2 = torch.FloatTensor(audio2)\n",
    "resampler = T.Resample(sr, sampling_rate, dtype=audio.dtype)\n",
    "audio2 = resampler(audio2)\n",
    "\n",
    "with torch.no_grad():\n",
    "    speaker_encoder.eval()\n",
    "    embedding_11 = speaker_encoder(audio1.unsqueeze(0).to(device), False)\n",
    "    embedding_11 = F.normalize(embedding_11, p=2, dim=1)\n",
    "    \n",
    "    embedding_21 = speaker_encoder(audio2.unsqueeze(0).to(device), False)\n",
    "    embedding_21 = F.normalize(embedding_21, p=2, dim=1)\n",
    "\n",
    "score = F.cosine_similarity(embedding_11.to(device), embedding_21.to(device))\n",
    "\n",
    "print(score)"
   ]
  },
  {
   "cell_type": "markdown",
   "id": "00e8d8e1",
   "metadata": {},
   "source": [
    "# cosine similarity between negative speakers"
   ]
  },
  {
   "cell_type": "code",
   "execution_count": 5,
   "id": "575e546c",
   "metadata": {},
   "outputs": [
    {
     "name": "stdout",
     "output_type": "stream",
     "text": [
      "tensor([-0.0212], device='cuda:0')\n"
     ]
    }
   ],
   "source": [
    "sampling_rate = 16000\n",
    "audio_path1 = './your_audio_file1'\n",
    "audio_path2 = './your_audio_file2'\n",
    "\n",
    "audio1, sr  = soundfile.read(os.path.join(audio_path1))\n",
    "audio2, sr  = soundfile.read(os.path.join(audio_path2))\n",
    "\n",
    "audio1 = torch.FloatTensor(audio1)\n",
    "resampler = T.Resample(sr, sampling_rate, dtype=audio.dtype)\n",
    "audio1 = resampler(audio1)\n",
    "\n",
    "audio2 = torch.FloatTensor(audio2)\n",
    "resampler = T.Resample(sr, sampling_rate, dtype=audio.dtype)\n",
    "audio2 = resampler(audio2)\n",
    "\n",
    "with torch.no_grad():\n",
    "    speaker_encoder.eval()\n",
    "    embedding_11 = speaker_encoder(audio1.unsqueeze(0).to(device), False)\n",
    "    embedding_11 = F.normalize(embedding_11, p=2, dim=1)\n",
    "    \n",
    "    embedding_21 = speaker_encoder(audio2.unsqueeze(0).to(device), False)\n",
    "    embedding_21 = F.normalize(embedding_21, p=2, dim=1)\n",
    "\n",
    "score = F.cosine_similarity(embedding_11.to(device), embedding_21.to(device))\n",
    "\n",
    "print(score)"
   ]
  },
  {
   "cell_type": "code",
   "execution_count": null,
   "id": "05e9dee2",
   "metadata": {},
   "outputs": [],
   "source": []
  }
 ],
 "metadata": {
  "kernelspec": {
   "display_name": "Python 3 (ipykernel)",
   "language": "python",
   "name": "python3"
  },
  "language_info": {
   "codemirror_mode": {
    "name": "ipython",
    "version": 3
   },
   "file_extension": ".py",
   "mimetype": "text/x-python",
   "name": "python",
   "nbconvert_exporter": "python",
   "pygments_lexer": "ipython3",
   "version": "3.8.12"
  }
 },
 "nbformat": 4,
 "nbformat_minor": 5
}
